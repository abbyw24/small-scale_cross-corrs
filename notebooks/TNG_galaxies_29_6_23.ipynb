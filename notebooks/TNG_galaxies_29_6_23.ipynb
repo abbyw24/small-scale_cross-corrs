{
 "cells": [
  {
   "cell_type": "code",
   "execution_count": 1,
   "id": "e0fcdb16",
   "metadata": {},
   "outputs": [],
   "source": [
    "%load_ext autoreload\n",
    "%autoreload 2\n",
    "%matplotlib inline"
   ]
  },
  {
   "cell_type": "code",
   "execution_count": 2,
   "id": "d1392916",
   "metadata": {},
   "outputs": [],
   "source": [
    "# key directories\n",
    "work = '/work/08811/aew492/ls6/small-scale_cross-corrs'\n",
    "scratch = '/scratch/08811/aew492/small-scale_cross-corrs'"
   ]
  },
  {
   "cell_type": "code",
   "execution_count": 3,
   "id": "ff1058b1",
   "metadata": {},
   "outputs": [],
   "source": [
    "import numpy as np\n",
    "import matplotlib as mpl\n",
    "import matplotlib.pyplot as plt\n",
    "from colossus.cosmology import cosmology\n",
    "import illustris_python as il\n",
    "import Corrfunc\n",
    "from Corrfunc.theory.xi import xi\n",
    "import astropy.units as u\n",
    "import os\n",
    "import sys\n",
    "sys.path.insert(0, work)\n",
    "import corrfunc_ls\n",
    "from illustris_sim import IllustrisSim\n",
    "from illustris_xi import compute_xi_auto_illustris\n",
    "import tools"
   ]
  },
  {
   "cell_type": "markdown",
   "id": "c3092454",
   "metadata": {},
   "source": [
    "#### initialize TNG simulation"
   ]
  },
  {
   "cell_type": "code",
   "execution_count": 4,
   "id": "7ea0a0ae",
   "metadata": {},
   "outputs": [],
   "source": [
    "z = 0.\n",
    "sim = IllustrisSim('TNG300-3')\n",
    "sim.set_snapshot(redshift=z)"
   ]
  },
  {
   "cell_type": "markdown",
   "id": "08eaab4c",
   "metadata": {},
   "source": [
    "### load subhalos"
   ]
  },
  {
   "cell_type": "code",
   "execution_count": 5,
   "id": "9bc949c8",
   "metadata": {},
   "outputs": [
    {
     "name": "stdout",
     "output_type": "stream",
     "text": [
      "loaded 391144 subhalos\n"
     ]
    }
   ],
   "source": [
    "fields = ['SubhaloFlag','SubhaloPos','SubhaloMass','SubhaloMassType', 'SubhaloLenType']\n",
    "subhalos = il.groupcat.loadSubhalos(sim.basepath, sim.snapshot, fields=fields)\n",
    "print(f\"loaded {subhalos['count']} subhalos\")"
   ]
  },
  {
   "cell_type": "code",
   "execution_count": 6,
   "id": "b57c5778",
   "metadata": {},
   "outputs": [
    {
     "name": "stdout",
     "output_type": "stream",
     "text": [
      "0.09% of subhalos got flagged as non-cosmological in origin\n"
     ]
    }
   ],
   "source": [
    "# how many subhalos are flagged as non-cosmological origin?\n",
    "frac_flagged = (subhalos['count']-np.sum(subhalos['SubhaloFlag']))/subhalos['count']\n",
    "print(f\"{frac_flagged*100:.2f}% of subhalos got flagged as non-cosmological in origin\")"
   ]
  },
  {
   "cell_type": "code",
   "execution_count": 7,
   "id": "eb45283a",
   "metadata": {},
   "outputs": [],
   "source": [
    "# remove flagged subhalos, and give proper units to position and mass\n",
    "nsubhalos = np.sum(subhalos['SubhaloFlag'])\n",
    "# number of each particle type in each subhalo:\n",
    "len_types = subhalos['SubhaloLenType'][subhalos['SubhaloFlag']]\n",
    "# (x,y,z) coordinate of each subhalo:\n",
    "subhalo_pos = (subhalos['SubhaloPos'][subhalos['SubhaloFlag']] * u.kpc).to(u.Mpc)\n",
    "# total mass of each subhalo:\n",
    "total_mass = subhalos['SubhaloMass'][subhalos['SubhaloFlag']] * 1e10 * u.M_sun\n",
    "# total mass of each particle type in each subhalo:\n",
    "mass_types = subhalos['SubhaloMassType'][subhalos['SubhaloFlag']] * 1e10 * u.Msun"
   ]
  },
  {
   "cell_type": "code",
   "execution_count": 8,
   "id": "2db73f86",
   "metadata": {},
   "outputs": [
    {
     "name": "stdout",
     "output_type": "stream",
     "text": [
      "57374 subhalos (14.67%) have stars\n"
     ]
    }
   ],
   "source": [
    "# how many subhalos have stars?\n",
    "nwithstars = np.sum(mass_types[:,4]>0.)\n",
    "print(f\"{nwithstars} subhalos ({100*nwithstars/subhalos['count']:.2f}%) have stars\")"
   ]
  },
  {
   "cell_type": "markdown",
   "id": "8dad1468",
   "metadata": {},
   "source": [
    "Okay so the vast majority of subhalos don't actually have any star particles!!! Remove these.\n",
    "\n",
    "Right now we're defining a \"galaxy\" as any subhalo with stars."
   ]
  },
  {
   "cell_type": "code",
   "execution_count": 10,
   "id": "23552d83",
   "metadata": {},
   "outputs": [],
   "source": [
    "# get only the subhalos with non-zero star mass\n",
    "gal_idx = np.where(mass_types[:,4].value>0.)\n",
    "gal_pos = subhalo_pos[gal_idx]\n",
    "gal_mass = total_mass[gal_idx]\n",
    "gal_mass_types = mass_types[gal_idx]\n",
    "gal_len_types = len_types[gal_idx]"
   ]
  },
  {
   "cell_type": "code",
   "execution_count": 11,
   "id": "02709306",
   "metadata": {},
   "outputs": [],
   "source": [
    "# particle types\n",
    "parttyps = ['gas', 'dm', 'stars']\n",
    "partidx = [0, 1, 4]"
   ]
  },
  {
   "cell_type": "code",
   "execution_count": 12,
   "id": "65f3a367",
   "metadata": {},
   "outputs": [
    {
     "data": {
      "text/plain": [
       "<matplotlib.legend.Legend at 0x14c7e3999790>"
      ]
     },
     "execution_count": 12,
     "metadata": {},
     "output_type": "execute_result"
    },
    {
     "data": {
      "image/png": "[encoded data removed]",
      "text/plain": [
       "<Figure size 640x480 with 1 Axes>"
      ]
     },
     "metadata": {},
     "output_type": "display_data"
    }
   ],
   "source": [
    "# check out the relation between total star mass and number of stars\n",
    "fig, ax = plt.subplots()\n",
    "cs = ['C0', 'C1', 'C2']\n",
    "for i, idx in enumerate(partidx):\n",
    "    ax.plot(gal_len_types[:,i], gal_mass_types[:,i].value, marker='.', ms=4, alpha=0.4, color=cs[i], ls='None',\n",
    "           label=parttyps[i])\n",
    "ax.set_xlabel('# stars')\n",
    "ax.set_ylabel(r'Star mass ($M_\\odot$)')\n",
    "ax.legend()"
   ]
  },
  {
   "cell_type": "markdown",
   "id": "a48045ee",
   "metadata": {},
   "source": [
    "--> Very clear linear relationship between number of stars and star/gas/DM mass."
   ]
  },
  {
   "cell_type": "code",
   "execution_count": null,
   "id": "76201698",
   "metadata": {},
   "outputs": [],
   "source": []
  }
 ],
 "metadata": {
  "kernelspec": {
   "display_name": "Python (illustris)",
   "language": "python",
   "name": "illustris"
  },
  "language_info": {
   "codemirror_mode": {
    "name": "ipython",
    "version": 3
   },
   "file_extension": ".py",
   "mimetype": "text/x-python",
   "name": "python",
   "nbconvert_exporter": "python",
   "pygments_lexer": "ipython3",
   "version": "3.9.7"
  }
 },
 "nbformat": 4,
 "nbformat_minor": 5
}
