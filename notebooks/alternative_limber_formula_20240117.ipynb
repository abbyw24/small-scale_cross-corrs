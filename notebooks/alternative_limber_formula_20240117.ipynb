{
 "cells": [
  {
   "cell_type": "code",
   "execution_count": 1,
   "metadata": {},
   "outputs": [],
   "source": [
    "%load_ext autoreload\n",
    "%autoreload 2\n",
    "%matplotlib inline"
   ]
  },
  {
   "cell_type": "code",
   "execution_count": 2,
   "metadata": {},
   "outputs": [],
   "source": [
    "import numpy as np\n",
    "import matplotlib.pyplot as plt\n",
    "import matplotlib as mpl\n",
    "import os\n",
    "import sys\n",
    "import astropy.units as u\n",
    "import astropy.constants as c\n",
    "import astropy.units as cu\n",
    "from astropy.cosmology import Planck15 as cosmo\n",
    "from Corrfunc.mocks.DDtheta_mocks import DDtheta_mocks\n",
    "from Corrfunc.utils import convert_3d_counts_to_cf\n",
    "sys.path.insert(0, '/work/08811/aew492/frontera/small-scale_cross-corrs')\n",
    "from illustris_sim import TNGSim\n",
    "import corrfuncs\n",
    "import tools"
   ]
  },
  {
   "cell_type": "markdown",
   "metadata": {},
   "source": [
    "### alternative Limber formula\n",
    "\n",
    "$$\n",
    "w_x"
   ]
  },
  {
   "cell_type": "code",
   "execution_count": null,
   "metadata": {},
   "outputs": [],
   "source": []
  }
 ],
 "metadata": {
  "kernelspec": {
   "display_name": "Python (illustris)",
   "language": "python",
   "name": "illustris"
  },
  "language_info": {
   "codemirror_mode": {
    "name": "ipython",
    "version": 3
   },
   "file_extension": ".py",
   "mimetype": "text/x-python",
   "name": "python",
   "nbconvert_exporter": "python",
   "pygments_lexer": "ipython3",
   "version": "3.7.0"
  }
 },
 "nbformat": 4,
 "nbformat_minor": 2
}
