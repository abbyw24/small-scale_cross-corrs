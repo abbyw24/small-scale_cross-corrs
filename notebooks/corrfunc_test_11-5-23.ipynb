{
 "cells": [
  {
   "cell_type": "code",
   "execution_count": 1,
   "id": "fd569377",
   "metadata": {},
   "outputs": [],
   "source": [
    "%load_ext autoreload\n",
    "%autoreload 2"
   ]
  },
  {
   "cell_type": "code",
   "execution_count": 2,
   "id": "f0618e37",
   "metadata": {},
   "outputs": [
    {
     "name": "stdout",
     "output_type": "stream",
     "text": [
      "/work/08811/aew492/ls6/miniconda3/envs/illustris/bin/python3.9\n"
     ]
    }
   ],
   "source": [
    "# which python version are we running?\n",
    "import sys\n",
    "print(sys.executable)"
   ]
  },
  {
   "cell_type": "code",
   "execution_count": 3,
   "id": "5a306119",
   "metadata": {},
   "outputs": [],
   "source": [
    "import numpy as np"
   ]
  },
  {
   "cell_type": "code",
   "execution_count": 4,
   "id": "c1feb081",
   "metadata": {},
   "outputs": [
    {
     "name": "stdout",
     "output_type": "stream",
     "text": [
      "1.23.5\n"
     ]
    }
   ],
   "source": [
    "# which numpy version are we using?\n",
    "print(np.__version__)"
   ]
  },
  {
   "cell_type": "code",
   "execution_count": 5,
   "id": "847beac9",
   "metadata": {},
   "outputs": [],
   "source": [
    "# try to import Corrfunc\n",
    "from Corrfunc import bases, theory, utils, io"
   ]
  },
  {
   "cell_type": "code",
   "execution_count": 6,
   "id": "ad7b8803",
   "metadata": {},
   "outputs": [],
   "source": [
    "boxsize = 750.0\n",
    "x, y, z = io.read_lognormal_catalog(n='2e-4')\n",
    "nd = len(x)\n",
    "nr = 3*nd\n",
    "np.random.seed(42)\n",
    "x_rand = np.random.uniform(0, boxsize, nr)\n",
    "y_rand = np.random.uniform(0, boxsize, nr)\n",
    "z_rand = np.random.uniform(0, boxsize, nr)"
   ]
  },
  {
   "cell_type": "code",
   "execution_count": null,
   "id": "ac891539",
   "metadata": {},
   "outputs": [],
   "source": []
  }
 ],
 "metadata": {
  "kernelspec": {
   "display_name": "Python (illustris)",
   "language": "python",
   "name": "illustris"
  },
  "language_info": {
   "codemirror_mode": {
    "name": "ipython",
    "version": 3
   },
   "file_extension": ".py",
   "mimetype": "text/x-python",
   "name": "python",
   "nbconvert_exporter": "python",
   "pygments_lexer": "ipython3",
   "version": "3.9.7"
  }
 },
 "nbformat": 4,
 "nbformat_minor": 5
}
