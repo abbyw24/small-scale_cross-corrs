{
 "cells": [
  {
   "cell_type": "code",
   "execution_count": 1,
   "id": "26532326",
   "metadata": {},
   "outputs": [],
   "source": [
    "%load_ext autoreload\n",
    "%autoreload 2\n",
    "%matplotlib inline"
   ]
  },
  {
   "cell_type": "code",
   "execution_count": 3,
   "id": "8cbf9406",
   "metadata": {},
   "outputs": [],
   "source": [
    "# define key directories\n",
    "work = '/work/08811/aew492/ls6/small-scale_cross-corrs'\n",
    "scratch = '/scratch/08811/aew492'"
   ]
  },
  {
   "cell_type": "code",
   "execution_count": 4,
   "id": "a86d6b4a",
   "metadata": {},
   "outputs": [],
   "source": [
    "import numpy as np\n",
    "import matplotlib.pyplot as plt\n",
    "import matplotlib as mpl\n",
    "import illustris_python as il\n",
    "from Corrfunc.theory.wp import wp\n",
    "import sys"
   ]
  },
  {
   "cell_type": "code",
   "execution_count": null,
   "id": "1887808b",
   "metadata": {},
   "outputs": [],
   "source": []
  }
 ],
 "metadata": {
  "kernelspec": {
   "display_name": "Python (illustris)",
   "language": "python",
   "name": "illustris"
  },
  "language_info": {
   "codemirror_mode": {
    "name": "ipython",
    "version": 3
   },
   "file_extension": ".py",
   "mimetype": "text/x-python",
   "name": "python",
   "nbconvert_exporter": "python",
   "pygments_lexer": "ipython3",
   "version": "3.9.7"
  }
 },
 "nbformat": 4,
 "nbformat_minor": 5
}
