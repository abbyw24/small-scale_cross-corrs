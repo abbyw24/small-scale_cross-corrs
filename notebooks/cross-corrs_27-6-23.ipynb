{
 "cells": [
  {
   "cell_type": "code",
   "execution_count": 1,
   "id": "c343f64e",
   "metadata": {},
   "outputs": [],
   "source": [
    "%load_ext autoreload\n",
    "%autoreload 2\n",
    "%matplotlib inline"
   ]
  },
  {
   "cell_type": "code",
   "execution_count": 2,
   "id": "4b546a05",
   "metadata": {},
   "outputs": [],
   "source": [
    "# key directories\n",
    "work = '/work/08811/aew492/ls6/small-scale_cross-corrs'\n",
    "scratch = '/scratch/08811/aew492/small-scale_cross-corrs'"
   ]
  },
  {
   "cell_type": "code",
   "execution_count": 3,
   "id": "a678ed5e",
   "metadata": {},
   "outputs": [],
   "source": [
    "import numpy as np\n",
    "import matplotlib as mpl\n",
    "import matplotlib.pyplot as plt\n",
    "from colossus.cosmology import cosmology\n",
    "import illustris_python as il\n",
    "import Corrfunc\n",
    "from Corrfunc.theory.xi import xi\n",
    "import os\n",
    "import sys\n",
    "sys.path.insert(0, work)\n",
    "import corrfunc_ls\n",
    "from illustris_sim import IllustrisSim\n",
    "from illustris_xi import compute_xi_auto_illustris\n",
    "import tools"
   ]
  },
  {
   "cell_type": "markdown",
   "id": "b870e458",
   "metadata": {},
   "source": [
    "We want to compute the cross-correlation between DM particles (this is the \"true\" underlying density field) and galaxies (a single position for each galaxy -> these are the subfind subhalos from the Illustris group catalogs)."
   ]
  },
  {
   "cell_type": "markdown",
   "id": "8cf41933",
   "metadata": {},
   "source": [
    "#### parameters"
   ]
  },
  {
   "cell_type": "code",
   "execution_count": 4,
   "id": "5a5da2d7",
   "metadata": {},
   "outputs": [],
   "source": [
    "z = 0.\n",
    "# initialize simulation and snapshot\n",
    "sim = IllustrisSim('TNG300-3')\n",
    "sim.set_snapshot(redshift=z)"
   ]
  },
  {
   "cell_type": "markdown",
   "id": "31c5b124",
   "metadata": {},
   "source": [
    "#### DM particles"
   ]
  },
  {
   "cell_type": "code",
   "execution_count": 5,
   "id": "e7262196",
   "metadata": {},
   "outputs": [],
   "source": [
    "sim.load_dm_pos()"
   ]
  },
  {
   "cell_type": "code",
   "execution_count": 6,
   "id": "9573c8ef",
   "metadata": {},
   "outputs": [
    {
     "data": {
      "text/plain": [
       "(244140625, 3)"
      ]
     },
     "execution_count": 6,
     "metadata": {},
     "output_type": "execute_result"
    }
   ],
   "source": [
    "sim.dm_pos.shape"
   ]
  },
  {
   "cell_type": "markdown",
   "id": "0703d901",
   "metadata": {},
   "source": [
    "#### galaxies"
   ]
  },
  {
   "cell_type": "code",
   "execution_count": 7,
   "id": "a2ce569d",
   "metadata": {},
   "outputs": [
    {
     "data": {
      "text/plain": [
       "(391144, 3)"
      ]
     },
     "execution_count": 7,
     "metadata": {},
     "output_type": "execute_result"
    }
   ],
   "source": [
    "sim.load_gal_pos()\n",
    "sim.gal_pos.shape"
   ]
  },
  {
   "cell_type": "markdown",
   "id": "03277faa",
   "metadata": {},
   "source": [
    "#### get subsample of each data set"
   ]
  },
  {
   "cell_type": "code",
   "execution_count": 8,
   "id": "e6fd0c9c",
   "metadata": {},
   "outputs": [
    {
     "name": "stdout",
     "output_type": "stream",
     "text": [
      "subsampling 2441406 random particles...\n",
      "subsampling 1354 random particles...\n"
     ]
    }
   ],
   "source": [
    "dm_subsample = tools.get_subsample(sim.dm_pos, nx=100)\n",
    "gal_subsample = tools.get_subsample(sim.gal_pos, nx=100)"
   ]
  },
  {
   "cell_type": "markdown",
   "id": "b1a15cc9",
   "metadata": {},
   "source": [
    "#### compute cross-correlation"
   ]
  },
  {
   "cell_type": "code",
   "execution_count": 13,
   "id": "937e6ca8",
   "metadata": {},
   "outputs": [],
   "source": [
    "# gal_subsample is the \"data set,\" while dm_subsample is the \"tracer set\"\n",
    "# we want to get the random set from the tracers\n",
    "# set up data for the calculation\n",
    "randmult = 3\n",
    "rmin = 1.\n",
    "rmax = 50.\n",
    "nbins = 10\n",
    "tracersforcf = corrfunc_ls.set_up_cf_data(dm_subsample.value, randmult, rmin, rmax, nbins, logbins=True, dtype='float32')\n",
    "r_edges, r_avg, nd, boxsize, nr, rand_set, tracer_set = tracersforcf.values()"
   ]
  },
  {
   "cell_type": "code",
   "execution_count": 18,
   "id": "ebd2916e",
   "metadata": {},
   "outputs": [],
   "source": [
    "# unpack data\n",
    "xgal, ygal, zgal = gal_subsample.value.T\n",
    "xdm, ydm, zdm = tracer_set.T\n",
    "xr, yr, zr = rand_set.T"
   ]
  },
  {
   "cell_type": "code",
   "execution_count": 17,
   "id": "c0a8a12e",
   "metadata": {},
   "outputs": [
    {
     "name": "stdout",
     "output_type": "stream",
     "text": [
      "CPU times: user 855 ms, sys: 56.5 ms, total: 911 ms\n",
      "Wall time: 953 ms\n"
     ]
    }
   ],
   "source": [
    "%%time\n",
    "# the calculation should be mostly the same, but DD should involve the galaxy set and the DM set\n",
    "nthreads = 12\n",
    "periodic = True\n",
    "results_DD = Corrfunc.theory.DD(0, nthreads, r_edges, xgal, ygal, zgal, X2=xdm, Y2=ydm, Z2=zdm,\n",
    "                                boxsize=boxsize, periodic=periodic)"
   ]
  },
  {
   "cell_type": "code",
   "execution_count": 19,
   "id": "efa0ca4a",
   "metadata": {},
   "outputs": [
    {
     "name": "stdout",
     "output_type": "stream",
     "text": [
      "CPU times: user 1.92 s, sys: 30.5 ms, total: 1.95 s\n",
      "Wall time: 196 ms\n"
     ]
    }
   ],
   "source": [
    "%%time\n",
    "results_DR = Corrfunc.theory.DD(0, nthreads, r_edges, xgal, ygal, zgal, X2=xr, Y2=yr, Z2=zr,\n",
    "                                boxsize=boxsize, periodic=periodic)"
   ]
  },
  {
   "cell_type": "code",
   "execution_count": 20,
   "id": "0f39c8a6",
   "metadata": {},
   "outputs": [
    {
     "name": "stdout",
     "output_type": "stream",
     "text": [
      "CPU times: user 31min 13s, sys: 278 ms, total: 31min 13s\n",
      "Wall time: 2min 36s\n"
     ]
    }
   ],
   "source": [
    "%%time\n",
    "results_RR = Corrfunc.theory.DD(1, nthreads, r_edges, xr, yr, zr, boxsize=boxsize, periodic=periodic)"
   ]
  },
  {
   "cell_type": "code",
   "execution_count": 27,
   "id": "49a63af8",
   "metadata": {},
   "outputs": [],
   "source": [
    "rr_save_fn = os.path.join(scratch, f'xi/rr_3x-DM-100x-subsample_z-{z:.1f}-{sim.sim}.npy')\n",
    "np.save(rr_save_fn, results_RR)"
   ]
  },
  {
   "cell_type": "code",
   "execution_count": 21,
   "id": "56ef5bd8",
   "metadata": {},
   "outputs": [],
   "source": [
    "dd = np.array([x['npairs'] for x in results_DD], dtype=float)\n",
    "dr = np.array([x['npairs'] for x in results_DR], dtype=float)\n",
    "rr = np.array([x['npairs'] for x in results_RR], dtype=float)"
   ]
  },
  {
   "cell_type": "code",
   "execution_count": 26,
   "id": "bb361331",
   "metadata": {},
   "outputs": [
    {
     "data": {
      "text/plain": [
       "(2441406, 7324218, 3.0)"
      ]
     },
     "execution_count": 26,
     "metadata": {},
     "output_type": "execute_result"
    }
   ],
   "source": [
    "nd, nr, nr/nd"
   ]
  },
  {
   "cell_type": "code",
   "execution_count": 28,
   "id": "3d391314",
   "metadata": {},
   "outputs": [
    {
     "data": {
      "text/plain": [
       "(1354, 2441406)"
      ]
     },
     "execution_count": 28,
     "metadata": {},
     "output_type": "execute_result"
    }
   ],
   "source": [
    "len(gal_subsample), len(dm_subsample)"
   ]
  },
  {
   "cell_type": "code",
   "execution_count": 29,
   "id": "99754075",
   "metadata": {},
   "outputs": [],
   "source": [
    "results_xi = Corrfunc.utils.convert_3d_counts_to_cf(len(gal_subsample), nd, nr, nr, dd, dr, dr, rr)"
   ]
  },
  {
   "cell_type": "code",
   "execution_count": 30,
   "id": "f23bbb04",
   "metadata": {},
   "outputs": [
    {
     "data": {
      "text/plain": [
       "(10,)"
      ]
     },
     "execution_count": 30,
     "metadata": {},
     "output_type": "execute_result"
    }
   ],
   "source": [
    "results_xi.shape"
   ]
  },
  {
   "cell_type": "code",
   "execution_count": 35,
   "id": "ef6748d1",
   "metadata": {},
   "outputs": [
    {
     "data": {
      "text/plain": [
       "Text(0, 0.5, '$\\\\xi(r)$')"
      ]
     },
     "execution_count": 35,
     "metadata": {},
     "output_type": "execute_result"
    },
    {
     "data": {
      "image/png": "[encoded data removed]",
      "text/plain": [
       "<Figure size 640x480 with 1 Axes>"
      ]
     },
     "metadata": {},
     "output_type": "display_data"
    }
   ],
   "source": [
    "fig, ax = plt.subplots()\n",
    "ax.plot(r_avg, results_xi, 'k.-', lw=0.5)\n",
    "ax.set_xlabel(r'separation $r$ (Mpc/h)')\n",
    "ax.set_ylabel(r'$\\xi(r)$')"
   ]
  },
  {
   "cell_type": "markdown",
   "id": "5fba72e4",
   "metadata": {},
   "source": [
    "### galaxy autocorrelation"
   ]
  },
  {
   "cell_type": "code",
   "execution_count": 8,
   "id": "e3326b1d",
   "metadata": {},
   "outputs": [
    {
     "data": {
      "text/plain": [
       "(391144, 3)"
      ]
     },
     "execution_count": 8,
     "metadata": {},
     "output_type": "execute_result"
    }
   ],
   "source": [
    "sim.gal_pos.shape"
   ]
  },
  {
   "cell_type": "code",
   "execution_count": 10,
   "id": "b2ab664f",
   "metadata": {},
   "outputs": [],
   "source": [
    "randmult = 3\n",
    "rmin = 0.1\n",
    "rmax = 50.  \n",
    "nbins = 20\n",
    "subsample_nx = 100\n",
    "nthreads = 12"
   ]
  },
  {
   "cell_type": "code",
   "execution_count": 12,
   "id": "ed4f36e3",
   "metadata": {},
   "outputs": [
    {
     "name": "stdout",
     "output_type": "stream",
     "text": [
      "subsampling 3911 random particles...\n",
      "CPU times: user 609 ms, sys: 13.2 ms, total: 623 ms\n",
      "Wall time: 190 ms\n"
     ]
    }
   ],
   "source": [
    "%%time\n",
    "result = compute_xi_auto_illustris(sim.sim, z, 'gal', randmult, rmin, rmax, nbins,\n",
    "                            subsample_nx=subsample_nx, nthreads=nthreads, save_fn=None, return_res=True)"
   ]
  },
  {
   "cell_type": "code",
   "execution_count": 13,
   "id": "fa77fa75",
   "metadata": {},
   "outputs": [
    {
     "data": {
      "text/plain": [
       "{'ravg': array([ 0.11822107,  0.16130334,  0.22008572,  0.30028966,  0.40972161,\n",
       "         0.55903291,  0.76275642,  1.04072114,  1.41998212,  1.93745389,\n",
       "         2.64350341,  3.60685244,  4.92126641,  6.71468086,  9.16165379,\n",
       "        12.50035585, 17.05575215, 23.27123204, 31.75176538, 43.32278596]),\n",
       " 'xi': array([            nan,             nan,             nan,  3.70000000e+01,\n",
       "         2.65000000e+01,  7.60000000e+01,  1.25384615e+01,  4.13636364e+00,\n",
       "         2.01941748e+00,  1.47761194e+00,  1.87431694e+00,  8.42105263e-01,\n",
       "         6.66135458e-01,  3.41658662e-01,  1.85390929e-01,  1.62139261e-01,\n",
       "         5.93093628e-02,  2.86033690e-02,  9.92558815e-03, -2.46921179e-03]),\n",
       " 'rmin': 0.1,\n",
       " 'rmax': 50.0,\n",
       " 'nbins': 20,\n",
       " 'logbins': True,\n",
       " 'periodic': True,\n",
       " 'nthreads': 12,\n",
       " 'redshift': 0.0,\n",
       " 'data': array([[193.9267  , 194.75084 , 148.38771 ],\n",
       "        [ 39.857548,  69.90597 ,  79.064476],\n",
       "        [ 28.94503 ,  46.4874  , 197.09898 ],\n",
       "        ...,\n",
       "        [ 50.58074 , 130.60167 ,  58.851982],\n",
       "        [204.0132  ,  13.35427 ,  52.02849 ],\n",
       "        [ 42.825287,  50.23511 ,   3.267479]], dtype=float32)}"
      ]
     },
     "execution_count": 13,
     "metadata": {},
     "output_type": "execute_result"
    }
   ],
   "source": [
    "fig, ax = plt.subplots()\n",
    "ax.plot(r_avg, results_xi, 'k.-', lw=0.5)\n",
    "ax.set_xlabel(r'separation $r$ (Mpc/h)')\n",
    "ax.set_ylabel(r'$\\xi(r)$')"
   ]
  },
  {
   "cell_type": "code",
   "execution_count": null,
   "id": "7089481e",
   "metadata": {},
   "outputs": [],
   "source": []
  }
 ],
 "metadata": {
  "kernelspec": {
   "display_name": "Python (illustris)",
   "language": "python",
   "name": "illustris"
  },
  "language_info": {
   "codemirror_mode": {
    "name": "ipython",
    "version": 3
   },
   "file_extension": ".py",
   "mimetype": "text/x-python",
   "name": "python",
   "nbconvert_exporter": "python",
   "pygments_lexer": "ipython3",
   "version": "3.9.7"
  }
 },
 "nbformat": 4,
 "nbformat_minor": 5
}
