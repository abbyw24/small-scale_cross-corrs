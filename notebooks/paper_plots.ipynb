{
 "cells": [
  {
   "cell_type": "code",
   "execution_count": 1,
   "id": "211d8986",
   "metadata": {},
   "outputs": [],
   "source": [
    "%load_ext autoreload\n",
    "%autoreload 2\n",
    "%matplotlib inline"
   ]
  },
  {
   "cell_type": "code",
   "execution_count": 1,
   "id": "a850cefa",
   "metadata": {},
   "outputs": [],
   "source": [
    "import numpy as np\n",
    "import matplotlib.pyplot as plt\n",
    "import matplotlib as mpl\n",
    "import astropy.units as u\n",
    "import astropy.cosmology.units as cu\n",
    "from astropy.cosmology import Planck15 as cosmo\n",
    "from colossus.cosmology import cosmology\n",
    "from scipy import special, integrate\n",
    "import os\n",
    "import sys\n",
    "\n",
    "sys.path.insert(0, '/work/08811/aew492/ls6/small-scale_cross-corrs')\n",
    "from illustris_sim import TNGSim\n",
    "import corrfuncs\n",
    "import tools"
   ]
  },
  {
   "cell_type": "markdown",
   "id": "e8804ab3",
   "metadata": {},
   "source": [
    "### "
   ]
  }
 ],
 "metadata": {
  "kernelspec": {
   "display_name": "Python (illustris)",
   "language": "python",
   "name": "illustris"
  },
  "language_info": {
   "codemirror_mode": {
    "name": "ipython",
    "version": 3
   },
   "file_extension": ".py",
   "mimetype": "text/x-python",
   "name": "python",
   "nbconvert_exporter": "python",
   "pygments_lexer": "ipython3",
   "version": "3.9.7"
  }
 },
 "nbformat": 4,
 "nbformat_minor": 5
}
